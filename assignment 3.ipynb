{
 "cells": [
  {
   "cell_type": "code",
   "execution_count": 1,
   "id": "c54f6c01",
   "metadata": {},
   "outputs": [
    {
     "name": "stdout",
     "output_type": "stream",
     "text": [
      "Hello,\n",
      "\tWorld\n"     ]
    }
   ],
   "source": [
    "# 1. Write a Python program to print the following string in a specific format (see the output).\n",
    "# Hello,\n",
    "#     World"
    "\n",
    "print(\"Hello,\");\n",
    "print(\"\\tWorld\");"
]
  },
  {
   "cell_type": "code",
   "execution_count": 2,
   "id": "e23c0825",
   "metadata": {},
   "outputs": [
    {
     "name": "stdout",
     "output_type": "stream",
     "text": [
      "3.8.8\n"
     ]
    }
   ],
   "source": [
    "# 2. Write a Python program to get the Python version you are using\n",
    "\n",
    "from platform import python_version\n",
    "\n",
    "print(python_version());"
   ]
  },
  {
   "cell_type": "code",
   "execution_count": 22,
   "id": "bacfd267",
   "metadata": {},
   "outputs": [
    {
     "name": "stdout",
     "output_type": "stream",
     "text": [
      "2021-10-24 17:54:49.841222\n"
     ]
    }
   ],
   "source": [
    "# 3. Write a Python program to display the current date and time.\n",
    "\n",
    "import datetime\n",
    "\n",
    "x = datetime.datetime.now()\n",
    "print(x);"
   ]
  },
  {
   "cell_type": "code",
   "execution_count": 23,
   "id": "8ac58bdd",
   "metadata": {},
   "outputs": [
    {
     "name": "stdout",
     "output_type": "stream",
     "text": [
      "Enter the value of radius of Circle: 55\n",
      "Area of Circle is 9498.5\n"
     ]
    }
   ],
   "source": [
    "# 4. Write a Python program which accepts the radius of a circle from the user and compute the area.\n",
    "\n",
    "r = int(input(\"Enter the value of radius of Circle: \"));\n",
    "p = 3.14;\n",
    "a = p * (r ** 2);\n",
    "print(\"Area of Circle is \" + str(a));"
   ]
  },
  {
   "cell_type": "code",
   "execution_count": 24,
   "id": "45326bc1",
   "metadata": {},
   "outputs": [
    {
     "name": "stdout",
     "output_type": "stream",
     "text": [
      "Enter your first name Muhammad\n",
      "Enter your last name Raza\n",
      "Raza Muhammad\n"
     ]
    }
   ],
   "source": [
    "# 5. Write a Python program which accepts the user's first and last name and print them in reverse order with a space between them.\n",
    "\n",
    "firstName = input(\"Enter your first name \");\n",
    "lastName = input(\"Enter your last name \");\n",
    "print(lastName + \" \" + firstName);"
   ]
  },
  {
   "cell_type": "code",
   "execution_count": 25,
   "id": "a3d4d8f7",
   "metadata": {},
   "outputs": [
    {
     "name": "stdout",
     "output_type": "stream",
     "text": [
      "Enter the first number: 44\n",
      "Enter the second number: 22\n",
      "44 + 22 = 66\n"
     ]
    }
   ],
   "source": [
    "# 6. Write a python program which takes two inputs from user and print them addition\n",
    "\n",
    "num1 = int(input(\"Enter the first number: \" ));\n",
    "num2 = int(input(\"Enter the second number: \" ));\n",
    "num3 = num1 + num2;\n",
    "print(str(num1) + \" + \" + str(num2) + \" = \" + str(num3));"
   ]
  },
  {
   "cell_type": "code",
   "execution_count": 26,
   "id": "66454489",
   "metadata": {},
   "outputs": [
    {
     "name": "stdout",
     "output_type": "stream",
     "text": [
      "Enter English Marks: 56\n",
      "Enter Islamiat Marks: 63\n",
      "Enter Maths Marks: 49\n",
      "Enter Physics Marks: 89\n",
      "Enter Chemistry Marks: 95\n",
      "352/500\n",
      "Percentage: 70.39999999999999%\n",
      "Grade: A\n"
     ]
    }
   ],
   "source": [
    "# 7. Write a program which takes 5 inputs from user for different subject’s marks, total it and generate mark sheet using grades ?\n",
    "\n",
    "english = int(input(\"Enter English Marks: \"));\n",
    "islamiat = int(input(\"Enter Islamiat Marks: \"));\n",
    "mathematics = int(input(\"Enter Maths Marks: \"));\n",
    "physics = int(input(\"Enter Physics Marks: \"));\n",
    "chemistry = int(input(\"Enter Chemistry Marks: \"));\n",
    "obtainmarks = english + islamiat + mathematics + physics + chemistry;\n",
    "totalmarks = 500;\n",
    "percentage = (obtainmarks / totalmarks) * 100;\n",
    "print(str(obtainmarks) + \"/\" + str(totalmarks) + \"\\nPercentage: \" + str(percentage) + \"%\");\n",
    "if percentage <= 100 and percentage >= 80:\n",
    "    print(\"Grade: A+\");\n",
    "elif percentage < 80 and percentage >= 70:\n",
    "    print(\"Grade: A\");\n",
    "elif percentage < 70 and percentage >= 60:\n",
    "    print(\"Grade: B\");\n",
    "elif percentage < 60 and percentage >= 50:\n",
    "    print(\"Grade: C\");\n",
    "elif percentage < 50 and percentage >= 40:\n",
    "    print(\"Grade: D\");\n",
    "elif percentage < 40 and percentage >= 33:\n",
    "    print(\"Grade: E\");\n",
    "elif percentage < 33 and percentage >= 0:\n",
    "    print(\"Grade: FAIL\");\n",
    "else:\n",
    "    print(\"Invalid Number\");"
   ]
  },
  {
   "cell_type": "code",
   "execution_count": 27,
   "id": "6eecaea7",
   "metadata": {},
   "outputs": [
    {
     "name": "stdout",
     "output_type": "stream",
     "text": [
      "Enter a number: 87\n",
      "87 is Odd\n"
     ]
    }
   ],
   "source": [
    "# 8. Write a program which take input from user and identify that the given number is even or odd?\n",
    "\n",
    "num = int(input(\"Enter a number: \"));\n",
    "res = num % 2;\n",
    "if res == 1:\n",
    "    print(str(num) + \" is Odd\");\n",
    "else:\n",
    "    print(str(num) + \" is Even\");"
   ]
  },
  {
   "cell_type": "code",
   "execution_count": 28,
   "id": "8baf7db5",
   "metadata": {},
   "outputs": [
    {
     "name": "stdout",
     "output_type": "stream",
     "text": [
      "6\n"
     ]
    }
   ],
   "source": [
    "# 9. Write a program which print the length of the list?\n",
    "\n",
    "arr  = [34,45,23,23,45,25];\n",
    "a = len(arr);\n",
    "print(a);"
   ]
  },
  {
   "cell_type": "code",
   "execution_count": 29,
   "id": "bf8af632",
   "metadata": {},
   "outputs": [
    {
     "name": "stdout",
     "output_type": "stream",
     "text": [
      "29\n"
     ]
    }
   ],
   "source": [
    "# 10. Write a Python program to sum all the numeric items in a list?\n",
    "\n",
    "arr = [4,5,3,7,2,8];\n",
    "sum_numbers = 0\n",
    "for x in arr:\n",
    "    sum_numbers += x\n",
    "print(sum_numbers);"
   ]
  },
  {
   "cell_type": "code",
   "execution_count": 30,
   "id": "aa8b5a33",
   "metadata": {},
   "outputs": [
    {
     "name": "stdout",
     "output_type": "stream",
     "text": [
      "9\n"
     ]
    }
   ],
   "source": [
    "# 11. Write a Python program to get the largest number from a numeric list.\n",
    "\n",
    "arr = [4,7,3,5,9];\n",
    "arr.sort();\n",
    "print(arr[-1]);"
   ]
  },
  {
   "cell_type": "code",
   "execution_count": 12,
   "id": "aa118bc9",
   "metadata": {},
   "outputs": [
    {
     "name": "stdout",
     "output_type": "stream",
     "text": [
      "1\n",
      "1\n",
      "2\n",
      "3\n"
     ]
    }
   ],
   "source": [
    "# 12. Take a list, say for example this one:\n",
    "# a = [1, 1, 2, 3, 5, 8, 13, 21, 34, 55, 89]\n",
    "# Write a program that prints out all the elements of the list that are less than 5.\n",
    "\n",
    "a = [1, 1, 2, 3, 5, 8, 13, 21, 34, 55, 89];\n",
    "for i in a:\n",
    "    if i < 5:\n",
    "        print(i);"
   ]
  },
  {
   "cell_type": "code",
   "execution_count": null,
   "id": "2ce14668",
   "metadata": {},
   "outputs": [],
   "source": []
  }
 ],
 "metadata": {
  "kernelspec": {
   "display_name": "Python 3",
   "language": "python",
   "name": "python3"
  },
  "language_info": {
   "codemirror_mode": {
    "name": "ipython",
    "version": 3
   },
   "file_extension": ".py",
   "mimetype": "text/x-python",
   "name": "python",
   "nbconvert_exporter": "python",
   "pygments_lexer": "ipython3",
   "version": "3.8.8"
  }
 },
 "nbformat": 4,
 "nbformat_minor": 5
}
